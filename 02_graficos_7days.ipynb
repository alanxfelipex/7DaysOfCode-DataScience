{
 "cells": [
  {
   "cell_type": "code",
   "execution_count": null,
   "id": "2b6de657",
   "metadata": {},
   "outputs": [],
   "source": [
    "# Mais informações no Medium\n",
    "# https://medium.com/@conversandoemcodigos/os-gastos-do-senado-em-gr%C3%A1ficos-7-days-of-code-dia-02-68fcdbf8eca4"
   ]
  },
  {
   "cell_type": "code",
   "execution_count": null,
   "id": "1f8ae891",
   "metadata": {},
   "outputs": [],
   "source": [
    "# Bibliotecas que serão usadas e subindo os arquivos\n",
    "\n",
    "import pandas as pd\n",
    "import plotly.express as px\n",
    "despesa_df = pd.read_csv('despesa_limpo.csv')\n",
    "despesa_df['ANO'] = despesa_df['ANO'].astype(str)"
   ]
  },
  {
   "cell_type": "code",
   "execution_count": null,
   "id": "fd2603d6",
   "metadata": {},
   "outputs": [],
   "source": [
    "# agrupando as despesas por ano\n",
    "\n",
    "despesa_ano_df = despesa_df[['ANO', 'VALOR_REEMBOLSADO']].groupby('ANO', as_index=False).sum()\n",
    "despesa_ano_df"
   ]
  },
  {
   "cell_type": "code",
   "execution_count": null,
   "id": "e30e7376",
   "metadata": {},
   "outputs": [],
   "source": [
    "#gráfico das despesas por ano\n",
    "\n",
    "fig = px.bar(despesa_ano_df, x='ANO', y='VALOR_REEMBOLSADO')\n",
    "fig.show()"
   ]
  },
  {
   "cell_type": "code",
   "execution_count": null,
   "id": "cc9dd05d",
   "metadata": {},
   "outputs": [],
   "source": [
    "# Agrupando o arquivo pelo ano e depois pela despesa \n",
    "\n",
    "desp_ano_tipo_valor = despesa_df[['ANO','TIPO_DESPESA','VALOR_REEMBOLSADO']].groupby(['ANO','TIPO_DESPESA'], as_index=False).sum()"
   ]
  },
  {
   "cell_type": "code",
   "execution_count": null,
   "id": "06f478dc",
   "metadata": {},
   "outputs": [],
   "source": [
    "# Gráfico das despesas por cada ano. O barmode como group facilita a comparação, pois coloca as coisas lado a lado\n",
    "\n",
    "fig2 = px.bar(desp_ano_tipo_valor, x='TIPO_DESPESA', y='VALOR_REEMBOLSADO', color='ANO', barmode='group')\n",
    "fig2.show()"
   ]
  },
  {
   "cell_type": "code",
   "execution_count": null,
   "id": "f30638dc",
   "metadata": {},
   "outputs": [],
   "source": [
    "# Agrupando os gráficos com valores que não mudaram muito\n",
    "\n",
    "desp_ano_tipo_valor_1 = desp_ano_tipo_valor.query('TIPO_DESPESA == \"Aluguel de imóveis para escritório político, compreendendo despesas concernentes a eles.\" or TIPO_DESPESA == \"Contratação de consultorias, assessorias, pesquisas, trabalhos técnicos e outros serviços de apoio ao exercício do mandato parlamentar\"' )"
   ]
  },
  {
   "cell_type": "code",
   "execution_count": null,
   "id": "913c85fb",
   "metadata": {},
   "outputs": [],
   "source": [
    "# Alterei o nome dos rótulos\n",
    "\n",
    "desp_ano_tipo_valor_1.replace(to_replace='Contratação de consultorias, assessorias, pesquisas, trabalhos técnicos e outros serviços de apoio ao exercício do mandato parlamentar', value='Consultoria', inplace=True)\n",
    "desp_ano_tipo_valor_1.replace(to_replace='Aluguel de imóveis para escritório político, compreendendo despesas concernentes a eles.', value='Aluguel', inplace=True)"
   ]
  },
  {
   "cell_type": "code",
   "execution_count": null,
   "id": "a0dd6fb5",
   "metadata": {},
   "outputs": [],
   "source": [
    "# Gráficos que tiveram poucas mudanças\n",
    "\n",
    "fig3 = px.bar(desp_ano_tipo_valor_1, x='TIPO_DESPESA', y='VALOR_REEMBOLSADO', color='ANO', barmode='group', width=1000, labels={'TIPO_DESPESA': 'Tipo da Despesa'})\n",
    "fig3.show()"
   ]
  },
  {
   "cell_type": "code",
   "execution_count": null,
   "id": "e1af4fcd",
   "metadata": {},
   "outputs": [],
   "source": [
    "# Gráficos que tiveram crescimento\n",
    "\n",
    "desp_ano_tipo_valor_2 = desp_ano_tipo_valor.query('TIPO_DESPESA == \"Divulgação da atividade parlamentar\"' )\n",
    "fig4 = px.bar(desp_ano_tipo_valor_2, x='TIPO_DESPESA', y='VALOR_REEMBOLSADO', color='ANO', barmode='group', width=1000)\n",
    "fig4.show()"
   ]
  },
  {
   "cell_type": "code",
   "execution_count": null,
   "id": "67db3030",
   "metadata": {},
   "outputs": [],
   "source": [
    "# Gráficos que não tiveram um padrão\n",
    "\n",
    "desp_ano_tipo_valor_3 = desp_ano_tipo_valor.query('TIPO_DESPESA == \"Passagens aéreas, aquáticas e terrestres nacionais\"' )\n",
    "fig5 = px.bar(desp_ano_tipo_valor_3, x='TIPO_DESPESA', y='VALOR_REEMBOLSADO', color='ANO', barmode='group', width=1000)\n",
    "fig5.show()"
   ]
  },
  {
   "cell_type": "code",
   "execution_count": null,
   "id": "f8c634c7",
   "metadata": {},
   "outputs": [],
   "source": [
    "# Agrupando os valores por ano, mês e tipo de despesa e filtrando apenas as passagens\n",
    "\n",
    "despesa_mes = despesa_df[['ANO', 'MES', 'TIPO_DESPESA', 'VALOR_REEMBOLSADO']].groupby(['ANO', 'MES','TIPO_DESPESA'], as_index=False).sum()\n",
    "despesa_mes_passagem = despesa_mes.query('TIPO_DESPESA == \"Passagens aéreas, aquáticas e terrestres nacionais\"')"
   ]
  },
  {
   "cell_type": "code",
   "execution_count": null,
   "id": "3b03de8c",
   "metadata": {},
   "outputs": [],
   "source": [
    "# Ficou estranho a comparação\n",
    "\n",
    "fig6 = px.bar(despesa_mes_passagem, x='MES', y='VALOR_REEMBOLSADO', color='ANO', barmode='group', width=1000)\n",
    "fig6.show()"
   ]
  },
  {
   "cell_type": "code",
   "execution_count": null,
   "id": "017a63d4",
   "metadata": {},
   "outputs": [],
   "source": [
    "# Fiz o gráfico de linhas\n",
    "\n",
    "fig7 = px.line(despesa_mes_passagem, x='MES', y='VALOR_REEMBOLSADO', color='ANO', markers=True)\n",
    "fig7.show()"
   ]
  },
  {
   "cell_type": "code",
   "execution_count": null,
   "id": "c70f5fe0",
   "metadata": {},
   "outputs": [],
   "source": []
  }
 ],
 "metadata": {
  "kernelspec": {
   "display_name": "Python 3 (ipykernel)",
   "language": "python",
   "name": "python3"
  },
  "language_info": {
   "codemirror_mode": {
    "name": "ipython",
    "version": 3
   },
   "file_extension": ".py",
   "mimetype": "text/x-python",
   "name": "python",
   "nbconvert_exporter": "python",
   "pygments_lexer": "ipython3",
   "version": "3.9.7"
  }
 },
 "nbformat": 4,
 "nbformat_minor": 5
}
