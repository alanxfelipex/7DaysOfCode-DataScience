{
 "cells": [
  {
   "cell_type": "code",
   "execution_count": null,
   "id": "bd36236c",
   "metadata": {},
   "outputs": [],
   "source": [
    "# Medium: https://github.com/alanxfelipex/7DaysOfCode-DataScience"
   ]
  },
  {
   "cell_type": "code",
   "execution_count": null,
   "id": "43152a37",
   "metadata": {},
   "outputs": [],
   "source": [
    "# Importei as bibliotecas necessárias. \n",
    "# Flask cria a conexão e disponibiliza online\n",
    "# pickle carrega o modelo de machine learning\n",
    "\n",
    "import numpy as np\n",
    "from flask import Flask\n",
    "import pickle\n",
    "import pandas as pd\n",
    "import requests\n",
    "import json"
   ]
  },
  {
   "cell_type": "code",
   "execution_count": null,
   "id": "55c4d99a",
   "metadata": {},
   "outputs": [],
   "source": [
    "# carregando o modelo de machine learning\n",
    "\n",
    "modelo = pickle.load(open('modelo.pk1','rb'))"
   ]
  },
  {
   "cell_type": "code",
   "execution_count": null,
   "id": "22410f3a",
   "metadata": {},
   "outputs": [],
   "source": [
    "# Perguntando para quem será recomendado\n",
    "\n",
    "pos = int(input('Para quem recomendar: '))"
   ]
  },
  {
   "cell_type": "code",
   "execution_count": null,
   "id": "4160487f",
   "metadata": {},
   "outputs": [],
   "source": [
    "# Criando a aplicação\n",
    "app = Flask(__name__)\n",
    "\n",
    "# endpoint mostrando que o site está funcionando\n",
    "@app.route('/')\n",
    "def mensagem():\n",
    "    return \"FUNCIONANDO\"\n",
    "\n",
    "# endpoint fazendo a indicação\n",
    "@app.route('/indica')\n",
    "def indica():\n",
    "    # dados salvo na nuvem\n",
    "    df = requests.get('https://recomendacao-95a6d-default-rtdb.firebaseio.com/.json')\n",
    "    df = df.json()\n",
    "    df = pd.DataFrame(df)\n",
    "    recomendacao = df.pivot_table(index='user_id', columns='movie_title', values='rating').fillna(0)\n",
    "    distancia, vizinhos = modelo.kneighbors(recomendacao.iloc[pos].values.reshape(1,-1), n_neighbors=6)\n",
    "    ds_usuario = recomendacao.iloc[pos].to_frame()\n",
    "    vizinhanca = ds_usuario\n",
    "    for i in range(1, 6):\n",
    "        vizinho_prox = recomendacao.index[vizinhos.flatten()[i]]\n",
    "        ds_vizinho = recomendacao.loc[vizinho_prox].to_frame()\n",
    "        vizinhanca = pd.merge(vizinhanca, ds_vizinho[vizinho_prox], on='movie_title')\n",
    "    pos1 = recomendacao.index[vizinhos.flatten()[1]]\n",
    "    pos2 = recomendacao.index[vizinhos.flatten()[2]]\n",
    "    pos3 = recomendacao.index[vizinhos.flatten()[3]]\n",
    "    pos4 = recomendacao.index[vizinhos.flatten()[4]]\n",
    "    pos5 = recomendacao.index[vizinhos.flatten()[5]]\n",
    "    vizinhanca_df = vizinhanca.reset_index()\n",
    "    vizinhanca_df.rename(columns={pos + 1 : 'coluna'}, inplace=True)\n",
    "    vizinhanca_df['SOMA'] = vizinhanca_df[pos1] + vizinhanca_df[pos2] + vizinhanca_df[pos3] + vizinhanca_df[pos4] + vizinhanca_df[pos5]\n",
    "    indicacao = vizinhanca_df.sort_values(by='SOMA', ascending=False)\n",
    "    indicacao.query('coluna == 0')\n",
    "    resposta = str(list(indicacao['movie_title'][:5]))\n",
    "    return resposta\n",
    "\n",
    "if __name__ == \"__main__\":\n",
    "    app.run()"
   ]
  }
 ],
 "metadata": {
  "kernelspec": {
   "display_name": "Python 3 (ipykernel)",
   "language": "python",
   "name": "python3"
  },
  "language_info": {
   "codemirror_mode": {
    "name": "ipython",
    "version": 3
   },
   "file_extension": ".py",
   "mimetype": "text/x-python",
   "name": "python",
   "nbconvert_exporter": "python",
   "pygments_lexer": "ipython3",
   "version": "3.9.7"
  }
 },
 "nbformat": 4,
 "nbformat_minor": 5
}
