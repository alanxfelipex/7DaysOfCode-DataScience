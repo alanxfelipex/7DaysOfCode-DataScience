{
 "cells": [
  {
   "cell_type": "code",
   "execution_count": null,
   "id": "4fa69fdc",
   "metadata": {},
   "outputs": [],
   "source": [
    "# Veja mais no Medium\n",
    "# https://medium.com/@conversandoemcodigos/quanto-o-senado-ainda-ir%C3%A1-gastar-7-days-of-code-dia-03-aaf3e96f213f"
   ]
  },
  {
   "cell_type": "code",
   "execution_count": null,
   "id": "5a683a1d",
   "metadata": {},
   "outputs": [],
   "source": [
    "# Bibliotecas que serão usadas e subindo os arquivos\n",
    "\n",
    "import pandas as pd\n",
    "from sklearn.linear_model import LinearRegression\n",
    "despesa_df = pd.read_csv('despesa_limpo.csv')"
   ]
  },
  {
   "cell_type": "code",
   "execution_count": null,
   "id": "f5cde3e7",
   "metadata": {},
   "outputs": [],
   "source": [
    "# Vendo os dados\n",
    "despesa_df"
   ]
  },
  {
   "cell_type": "markdown",
   "id": "d2c79815",
   "metadata": {},
   "source": [
    "# Previsão tirando a média"
   ]
  },
  {
   "cell_type": "code",
   "execution_count": null,
   "id": "302a0e73",
   "metadata": {},
   "outputs": [],
   "source": [
    "# Agrupando o valor reembolsado pelo ano e depois pelo tipo de despesa\n",
    "desp_ano_tipo_valor = despesa_df[['ANO','TIPO_DESPESA','VALOR_REEMBOLSADO']].groupby(['ANO','TIPO_DESPESA'], as_index=False).sum()"
   ]
  },
  {
   "cell_type": "code",
   "execution_count": null,
   "id": "eb4e6e72",
   "metadata": {},
   "outputs": [],
   "source": [
    "# Dados de Aluguel e Consultoria, que tem valores próximos\n",
    "\n",
    "desp_ano_tipo_valor_1 = desp_ano_tipo_valor.query('TIPO_DESPESA == \"Aluguel de imóveis para escritório político, compreendendo despesas concernentes a eles.\" or TIPO_DESPESA == \"Contratação de consultorias, assessorias, pesquisas, trabalhos técnicos e outros serviços de apoio ao exercício do mandato parlamentar\"' )\n",
    "desp_ano_tipo_valor_1.replace(to_replace='Contratação de consultorias, assessorias, pesquisas, trabalhos técnicos e outros serviços de apoio ao exercício do mandato parlamentar', value='Consultoria', inplace=True)\n",
    "desp_ano_tipo_valor_1.replace(to_replace='Aluguel de imóveis para escritório político, compreendendo despesas concernentes a eles.', value='Aluguel', inplace=True)\n",
    "\n",
    "#Removendo o ano de 2022\n",
    "\n",
    "desp_ano_tipo_valor_baseline = desp_ano_tipo_valor_1.drop([21, 23])\n",
    "\n",
    "desp_ano_tipo_valor_1"
   ]
  },
  {
   "cell_type": "code",
   "execution_count": null,
   "id": "b89b8fd5",
   "metadata": {},
   "outputs": [],
   "source": [
    "# Vendo os dados de aluguel\n",
    "desp_ano_tipo_valor_baseline.query('TIPO_DESPESA == \"Aluguel\"')"
   ]
  },
  {
   "cell_type": "code",
   "execution_count": null,
   "id": "a27bf5cb",
   "metadata": {},
   "outputs": [],
   "source": [
    "# Filtrando apenas o aluguel e vendo sua média\n",
    "\n",
    "media_aluguel = desp_ano_tipo_valor_baseline.query('TIPO_DESPESA == \"Aluguel\"')\n",
    "media_aluguel['VALOR_REEMBOLSADO'].mean()"
   ]
  },
  {
   "cell_type": "code",
   "execution_count": null,
   "id": "bcde827e",
   "metadata": {},
   "outputs": [],
   "source": [
    "# Vendo os dados de Consultoria\n",
    "desp_ano_tipo_valor_baseline.query('TIPO_DESPESA == \"Consultoria\"')"
   ]
  },
  {
   "cell_type": "code",
   "execution_count": null,
   "id": "3f10655a",
   "metadata": {},
   "outputs": [],
   "source": [
    "# Filtrando os dados de consultoria e tirando a sua média\n",
    "\n",
    "media_consultoria = desp_ano_tipo_valor_baseline.query('TIPO_DESPESA == \"Consultoria\"')\n",
    "media_consultoria['VALOR_REEMBOLSADO'].mean()"
   ]
  },
  {
   "cell_type": "markdown",
   "id": "44bcbf51",
   "metadata": {},
   "source": [
    "# Regressão Linear"
   ]
  },
  {
   "cell_type": "code",
   "execution_count": null,
   "id": "90f18130",
   "metadata": {},
   "outputs": [],
   "source": [
    "# Filtrando os dados de divulgação e apagando o ano de 2022\n",
    "\n",
    "desp_ano_tipo_valor_2 = desp_ano_tipo_valor.query('TIPO_DESPESA == \"Divulgação da atividade parlamentar\"' )\n",
    "desp_ano_tipo_valor_2.drop(24, inplace=True)"
   ]
  },
  {
   "cell_type": "code",
   "execution_count": null,
   "id": "c69eceb8",
   "metadata": {},
   "outputs": [],
   "source": [
    "# Treinando o método\n",
    "\n",
    "X = desp_ano_tipo_valor_2[['ANO']]\n",
    "y = desp_ano_tipo_valor_2['VALOR_REEMBOLSADO']\n",
    "lr = LinearRegression()\n",
    "lr.fit(X, y)"
   ]
  },
  {
   "cell_type": "code",
   "execution_count": null,
   "id": "ddf76575",
   "metadata": {},
   "outputs": [],
   "source": [
    "# O gasto aumentando a cada ano\n",
    "desp_ano_tipo_valor_2"
   ]
  },
  {
   "cell_type": "code",
   "execution_count": null,
   "id": "5efdeb5f",
   "metadata": {},
   "outputs": [],
   "source": [
    "# Prevendo o valor em 2022\n",
    "\n",
    "pred_2022 = lr.predict([[2022]])\n",
    "pred_2022"
   ]
  },
  {
   "cell_type": "code",
   "execution_count": null,
   "id": "2abf428d",
   "metadata": {},
   "outputs": [],
   "source": []
  }
 ],
 "metadata": {
  "kernelspec": {
   "display_name": "Python 3 (ipykernel)",
   "language": "python",
   "name": "python3"
  },
  "language_info": {
   "codemirror_mode": {
    "name": "ipython",
    "version": 3
   },
   "file_extension": ".py",
   "mimetype": "text/x-python",
   "name": "python",
   "nbconvert_exporter": "python",
   "pygments_lexer": "ipython3",
   "version": "3.9.7"
  }
 },
 "nbformat": 4,
 "nbformat_minor": 5
}
