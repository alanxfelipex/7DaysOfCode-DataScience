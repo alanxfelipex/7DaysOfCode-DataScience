{
 "cells": [
  {
   "cell_type": "code",
   "execution_count": null,
   "id": "2e9d1d01",
   "metadata": {},
   "outputs": [],
   "source": [
    "# Mais informações confira No Medium\n",
    "# https://medium.com/@conversandoemcodigos/limpando-os-dados-dos-gastos-do-senado-7-days-of-code-dia-01-6477112b5c8d"
   ]
  },
  {
   "cell_type": "code",
   "execution_count": null,
   "id": "73f7edc3",
   "metadata": {},
   "outputs": [],
   "source": [
    "#importei o panda para poder usar\n",
    "\n",
    "import pandas as pd"
   ]
  },
  {
   "cell_type": "code",
   "execution_count": null,
   "id": "c621e093",
   "metadata": {},
   "outputs": [],
   "source": [
    "# subi os arquivos\n",
    "# o encoding serve para deixar normalizar os acentos e cedilhas\n",
    "\n",
    "# os dados podem ser baixados no site:  \n",
    "# https://www12.senado.leg.br/transparencia/dados-abertos-transparencia/dados-abertos-ceaps\n",
    "\n",
    "despesa_2019 = pd.read_csv('despesa_ceaps_2019.csv', encoding = 'ANSI')\n",
    "despesa_2020 = pd.read_csv('despesa_ceaps_2020.csv', encoding = 'ANSI')\n",
    "despesa_2021 = pd.read_csv('despesa_ceaps_2021.csv', encoding = 'ANSI')\n",
    "despesa_2022 = pd.read_csv('despesa_ceaps_2022.csv', encoding = 'ANSI')"
   ]
  },
  {
   "cell_type": "code",
   "execution_count": null,
   "id": "d402973b",
   "metadata": {},
   "outputs": [],
   "source": [
    "#concatenei os arquivos. Usei o ignore_index como True para que juntasse tudo em um index só\n",
    "\n",
    "despesa_total = pd.concat([despesa_2019, despesa_2020, despesa_2021, despesa_2022], ignore_index=True)"
   ]
  },
  {
   "cell_type": "code",
   "execution_count": null,
   "id": "42f0d478",
   "metadata": {},
   "outputs": [],
   "source": [
    "#fazendo uma cópia pra não mexer no dataset original\n",
    "\n",
    "despesa_limpo = despesa_total"
   ]
  },
  {
   "cell_type": "code",
   "execution_count": null,
   "id": "6eb3ca76",
   "metadata": {},
   "outputs": [],
   "source": [
    "#apagando as colunas que não vou usar\n",
    "\n",
    "despesa_limpo = despesa_limpo.drop(columns=['DOCUMENTO'])\n",
    "despesa_limpo = despesa_limpo.drop(columns=['COD_DOCUMENTO', 'CNPJ_CPF'])"
   ]
  },
  {
   "cell_type": "code",
   "execution_count": null,
   "id": "df7fb072",
   "metadata": {},
   "outputs": [],
   "source": [
    "# convertendo os arquivos para o formato certo\n",
    "# errors = coerce, faz com que os valores que não estejam nesse formato fiquem nulos\n",
    "\n",
    "despesa_limpo['DATA'] = pd.to_datetime(despesa_limpo['DATA'], errors = 'coerce')"
   ]
  },
  {
   "cell_type": "code",
   "execution_count": null,
   "id": "343a3e17",
   "metadata": {},
   "outputs": [],
   "source": [
    "#inplace -> para gravar mudanças no dataset\n",
    "#regex -> para poder substituir apenas uma parte da mensagem\n",
    "\n",
    "despesa_limpo['VALOR_REEMBOLSADO'].replace(',', '.', regex=True, inplace=True)"
   ]
  },
  {
   "cell_type": "code",
   "execution_count": null,
   "id": "fe49831c",
   "metadata": {},
   "outputs": [],
   "source": [
    "#convertendo para float\n",
    "\n",
    "despesa_limpo['VALOR_REEMBOLSADO'] = despesa_limpo['VALOR_REEMBOLSADO'].astype(float)"
   ]
  },
  {
   "cell_type": "code",
   "execution_count": null,
   "id": "0be08ef6",
   "metadata": {},
   "outputs": [],
   "source": [
    "despesa_limpo.sample(10)"
   ]
  },
  {
   "cell_type": "code",
   "execution_count": null,
   "id": "3a781a94",
   "metadata": {},
   "outputs": [],
   "source": [
    "# Convertendo ano e mês em string, porque não serão feito contas com eles\n",
    "despesa_limpo['ANO'] = despesa_limpo['ANO'].astype(str)\n",
    "despesa_limpo['MES'] = despesa_limpo['MES'].astype(str)"
   ]
  },
  {
   "cell_type": "code",
   "execution_count": null,
   "id": "1f0362e6",
   "metadata": {},
   "outputs": [],
   "source": [
    "#Verificando se todas os dados estão no formato correto\n",
    "despesa_limpo.info()"
   ]
  },
  {
   "cell_type": "code",
   "execution_count": null,
   "id": "c465e21e",
   "metadata": {},
   "outputs": [],
   "source": [
    "# Vendo as datas não nulas\n",
    "\n",
    "mascara_data_nulo = despesa_limpo['DATA'].isnull()\n",
    "despesa_limpo[mascara_data_nulo]"
   ]
  },
  {
   "cell_type": "code",
   "execution_count": null,
   "id": "c759cf61",
   "metadata": {},
   "outputs": [],
   "source": [
    "#preenchendo os valores nulos em detalhamento\n",
    "#inplace -> faz mudança no arquivo\n",
    "\n",
    "despesa_limpo['DETALHAMENTO'].fillna('Nao Preenchido', inplace=True)"
   ]
  },
  {
   "cell_type": "code",
   "execution_count": null,
   "id": "141ad28f",
   "metadata": {},
   "outputs": [],
   "source": [
    "import plotly.express as px"
   ]
  },
  {
   "cell_type": "code",
   "execution_count": null,
   "id": "f698933f",
   "metadata": {},
   "outputs": [],
   "source": [
    "# Verificando se há outliers\n",
    "\n",
    "fig = px.box(despesa_limpo, y=\"VALOR_REEMBOLSADO\")\n",
    "fig.show()"
   ]
  },
  {
   "cell_type": "code",
   "execution_count": null,
   "id": "ddc25282",
   "metadata": {},
   "outputs": [],
   "source": [
    "# Organizando os dados por valores e verificando os outliers\n",
    "\n",
    "despesa_limpo.sort_values(by='VALOR_REEMBOLSADO')"
   ]
  },
  {
   "cell_type": "code",
   "execution_count": null,
   "id": "1b0496fe",
   "metadata": {},
   "outputs": [],
   "source": [
    "# filtrando dados\n",
    "\n",
    "despesa_limpo_sem_outliers = despesa_limpo.query('10 < VALOR_REEMBOLSADO < 2000000')"
   ]
  },
  {
   "cell_type": "code",
   "execution_count": null,
   "id": "6264a607",
   "metadata": {},
   "outputs": [],
   "source": [
    "\n",
    "fig = px.box(despesa_limpo_sem_outliers, y=\"VALOR_REEMBOLSADO\")\n",
    "fig.show()"
   ]
  },
  {
   "cell_type": "code",
   "execution_count": null,
   "id": "92ef230b",
   "metadata": {},
   "outputs": [],
   "source": [
    "# Verificando quais informações não teve o detalhamento preenchido\n",
    "\n",
    "detalhamento_nao_preenchido = despesa_limpo_sem_outliers.query('DETALHAMENTO == \"Nao Preenchido\"')"
   ]
  },
  {
   "cell_type": "code",
   "execution_count": null,
   "id": "609557ce",
   "metadata": {},
   "outputs": [],
   "source": [
    "fig = px.box(detalhamento_nao_preenchido, y=\"VALOR_REEMBOLSADO\")\n",
    "fig.show()"
   ]
  },
  {
   "cell_type": "code",
   "execution_count": null,
   "id": "9c56e1cc",
   "metadata": {},
   "outputs": [],
   "source": [
    "#exportação do arquivo\n",
    "\n",
    "despesa_limpo_sem_outliers.to_csv('despesa_limpo.csv', index=False)\n",
    "detalhamento_nao_preenchido.to_csv('despesa_limpo_np.csv', index=False)"
   ]
  },
  {
   "cell_type": "code",
   "execution_count": null,
   "id": "f7b8ffa9",
   "metadata": {},
   "outputs": [],
   "source": []
  }
 ],
 "metadata": {
  "kernelspec": {
   "display_name": "Python 3 (ipykernel)",
   "language": "python",
   "name": "python3"
  },
  "language_info": {
   "codemirror_mode": {
    "name": "ipython",
    "version": 3
   },
   "file_extension": ".py",
   "mimetype": "text/x-python",
   "name": "python",
   "nbconvert_exporter": "python",
   "pygments_lexer": "ipython3",
   "version": "3.9.7"
  }
 },
 "nbformat": 4,
 "nbformat_minor": 5
}
